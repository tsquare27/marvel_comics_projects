{
 "cells": [
  {
   "cell_type": "code",
   "execution_count": 55,
   "id": "99f92f25",
   "metadata": {},
   "outputs": [],
   "source": [
    "import pandas as pd\n",
    "import requests as req\n",
    "import hashlib\n",
    "import time\n",
    "\n",
    "\n",
    "my_private = \"984f159687eb3ede36d3d88136521b55bff75476\"\n",
    "my_public =  \"b3e5790f7464d6954dfd0398664b80f1\"\n",
    "# endpoint url \n",
    "BASEURL = \"http://gateway.marvel.com\"\n",
    "\n",
    "characters_name =  \"/v1/public/characters\"\n",
    "\n",
    "character_name_endpoint  = BASEURL+characters_name\n",
    "\n",
    "comics =\"/v1/public/comics\"\n",
    "\n",
    "comics_endpoint = BASEURL+comics\n",
    "\n",
    "def get_request(url):\n",
    "    # Generate timestamp and hash (Marvel API requirement)\n",
    "    ts = str(time.time()) \n",
    "    # Get the current time as a timestamp\n",
    "    hash_input = ts + my_private + my_public \n",
    "    hash_result = hashlib.md5(hash_input.encode()).hexdigest()\n",
    "\n",
    "    # Request headers (this depends on the API you're using)\n",
    "    params = {   \n",
    "                \"ts\":ts,    \n",
    "                \"apikey\": my_public,    \n",
    "                \"hash\": hash_result,\n",
    "            }\n",
    "    # Make the request\n",
    "    response = req.get(url,params=params)\n",
    "\n",
    "    # Check for successful response\n",
    "    if response.status_code == 200:    \n",
    "        # Convert the response to JSON (assuming the API returns JSON)\n",
    "        data = response.json()            \n",
    "    # Show first few rows of the DataFrame\n",
    "    else:\n",
    "        print(f\"Failed to retrieve data. Status code:{response.status_code}\")\n",
    "    return data\n"
   ]
  },
  {
   "cell_type": "code",
   "execution_count": null,
   "id": "db200d63",
   "metadata": {},
   "outputs": [],
   "source": []
  },
  {
   "cell_type": "code",
   "execution_count": 85,
   "id": "a18f28fc",
   "metadata": {},
   "outputs": [
    {
     "ename": "TypeError",
     "evalue": "NDFrame.to_csv() got an unexpected keyword argument 'column'",
     "output_type": "error",
     "traceback": [
      "\u001b[1;31m---------------------------------------------------------------------------\u001b[0m",
      "\u001b[1;31mTypeError\u001b[0m                                 Traceback (most recent call last)",
      "Cell \u001b[1;32mIn[85], line 8\u001b[0m\n\u001b[0;32m      6\u001b[0m comicsdata \u001b[38;5;241m=\u001b[39m pd\u001b[38;5;241m.\u001b[39mDataFrame(comicinfo) \n\u001b[0;32m      7\u001b[0m \u001b[38;5;66;03m#comicsdata.to_csv('comic.csv', sep = ',')\u001b[39;00m\n\u001b[1;32m----> 8\u001b[0m data\u001b[38;5;241m.\u001b[39mto_csv(\u001b[38;5;124m'\u001b[39m\u001b[38;5;124mcharactername.csv\u001b[39m\u001b[38;5;124m'\u001b[39m, sep\u001b[38;5;241m=\u001b[39m\u001b[38;5;124m'\u001b[39m\u001b[38;5;124m,\u001b[39m\u001b[38;5;124m'\u001b[39m,column\u001b[38;5;241m=\u001b[39m[\u001b[38;5;124m'\u001b[39m\u001b[38;5;124mid\u001b[39m\u001b[38;5;124m'\u001b[39m,\u001b[38;5;124m'\u001b[39m\u001b[38;5;124mname\u001b[39m\u001b[38;5;124m'\u001b[39m,\u001b[38;5;124m'\u001b[39m\u001b[38;5;124mcomics\u001b[39m\u001b[38;5;124m'\u001b[39m])\n",
      "\u001b[1;31mTypeError\u001b[0m: NDFrame.to_csv() got an unexpected keyword argument 'column'"
     ]
    }
   ],
   "source": [
    "charactername = get_request(character_name_endpoint)\n",
    "comicinfo =get_request(comics_endpoint)\n",
    " \n",
    "# Convert the data to a pandas DataFrame\n",
    "data= pd.DataFrame(charactername)\n",
    "comicsdata = pd.DataFrame(comicinfo) \n",
    "#comicsdata.to_csv('comic.csv', sep = ',')\n",
    "data.to_csv('charactername.csv', sep=',',column=['id','name','comics'])"
   ]
  },
  {
   "cell_type": "code",
   "execution_count": null,
   "id": "5db0c0d1",
   "metadata": {},
   "outputs": [],
   "source": []
  }
 ],
 "metadata": {
  "kernelspec": {
   "display_name": "Python 3 (ipykernel)",
   "language": "python",
   "name": "python3"
  },
  "language_info": {
   "codemirror_mode": {
    "name": "ipython",
    "version": 3
   },
   "file_extension": ".py",
   "mimetype": "text/x-python",
   "name": "python",
   "nbconvert_exporter": "python",
   "pygments_lexer": "ipython3",
   "version": "3.11.5"
  }
 },
 "nbformat": 4,
 "nbformat_minor": 5
}
